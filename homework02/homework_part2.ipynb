{
 "cells": [
  {
   "cell_type": "markdown",
   "metadata": {
    "colab_type": "text",
    "id": "view-in-github"
   },
   "source": [
    "<a href=\"https://colab.research.google.com/github/dmitrii-davidov/ysda-deep-learning/blob/spring2019/homework02/homework_part2.ipynb\" target=\"_parent\"><img src=\"https://colab.research.google.com/assets/colab-badge.svg\" alt=\"Open In Colab\"/></a>"
   ]
  },
  {
   "cell_type": "markdown",
   "metadata": {
    "colab_type": "text",
    "collapsed": true,
    "id": "qirJRPYD5fyd"
   },
   "source": [
    "# Homework 2.2: The Quest For A Better Network\n",
    "\n",
    "In this assignment you will build a monster network to solve Tiny ImageNet image classification.\n",
    "\n",
    "This notebook is intended as a sequel to seminar 3, please give it a try if you haven't done so yet."
   ]
  },
  {
   "cell_type": "markdown",
   "metadata": {
    "colab_type": "text",
    "id": "a7-ytD1O5fyr"
   },
   "source": [
    "(please read it at least diagonally)\n",
    "\n",
    "* The ultimate quest is to create a network that has as high __accuracy__ as you can push it.\n",
    "* There is a __mini-report__ at the end that you will have to fill in. We recommend reading it first and filling it while you iterate.\n",
    " \n",
    "## Grading\n",
    "* starting at zero points\n",
    "* +20% for describing your iteration path in a report below.\n",
    "* +20% for building a network that gets above 20% accuracy\n",
    "* +10% for beating each of these milestones on __TEST__ dataset:\n",
    "    * 25% (50% points)\n",
    "    * 30% (60% points)\n",
    "    * 32.5% (70% points)\n",
    "    * 35% (80% points)\n",
    "    * 37.5% (90% points)\n",
    "    * 40% (full points)\n",
    "    \n",
    "## Restrictions\n",
    "* Please do NOT use pre-trained networks for this assignment until you reach 40%.\n",
    " * In other words, base milestones must be beaten without pre-trained nets (and such net must be present in the anytask atttachments). After that, you can use whatever you want.\n",
    "* you __can't__ do anything with validation data apart from running the evaluation procedure. Please, split train images on train and validation parts\n",
    "\n",
    "## Tips on what can be done:\n",
    "\n",
    "\n",
    " * __Network size__\n",
    "   * MOAR neurons, \n",
    "   * MOAR layers, ([torch.nn docs](http://pytorch.org/docs/master/nn.html))\n",
    "\n",
    "   * Nonlinearities in the hidden layers\n",
    "     * tanh, relu, leaky relu, etc\n",
    "   * Larger networks may take more epochs to train, so don't discard your net just because it could didn't beat the baseline in 5 epochs.\n",
    "\n",
    "   * Ph'nglui mglw'nafh Cthulhu R'lyeh wgah'nagl fhtagn!\n",
    "\n",
    "\n",
    "### The main rule of prototyping: one change at a time\n",
    "   * By now you probably have several ideas on what to change. By all means, try them out! But there's a catch: __never test several new things at once__.\n",
    "\n",
    "\n",
    "### Optimization\n",
    "   * Training for 100 epochs regardless of anything is probably a bad idea.\n",
    "   * Some networks converge over 5 epochs, others - over 500.\n",
    "   * Way to go: stop when validation score is 10 iterations past maximum\n",
    "   * You should certainly use adaptive optimizers\n",
    "     * rmsprop, nesterov_momentum, adam, adagrad and so on.\n",
    "     * Converge faster and sometimes reach better optima\n",
    "     * It might make sense to tweak learning rate/momentum, other learning parameters, batch size and number of epochs\n",
    "   * __BatchNormalization__ (nn.BatchNorm2d) for the win!\n",
    "     * Sometimes more batch normalization is better.\n",
    "   * __Regularize__ to prevent overfitting\n",
    "     * Add some L2 weight norm to the loss function, PyTorch will do the rest\n",
    "       * Can be done manually or like [this](https://discuss.pytorch.org/t/simple-l2-regularization/139/2).\n",
    "     * Dropout (`nn.Dropout`) - to prevent overfitting\n",
    "       * Don't overdo it. Check if it actually makes your network better\n",
    "   \n",
    "### Convolution architectures\n",
    "   * This task __can__ be solved by a sequence of convolutions and poolings with batch_norm and ReLU seasoning, but you shouldn't necessarily stop there.\n",
    "   * [Inception family](https://hacktilldawn.com/2016/09/25/inception-modules-explained-and-implemented/), [ResNet family](https://towardsdatascience.com/an-overview-of-resnet-and-its-variants-5281e2f56035?gi=9018057983ca), [Densely-connected convolutions (exotic)](https://arxiv.org/abs/1608.06993), [Capsule networks (exotic)](https://arxiv.org/abs/1710.09829)\n",
    "   * Please do try a few simple architectures before you go for resnet-152.\n",
    "   * Warning! Training convolutional networks can take long without GPU. That's okay.\n",
    "     * If you are CPU-only, we still recomment that you try a simple convolutional architecture\n",
    "     * a perfect option is if you can set it up to run at nighttime and check it up at the morning.\n",
    "     * Make reasonable layer size estimates. A 128-neuron first convolution is likely an overkill.\n",
    "     * __To reduce computation__ time by a factor in exchange for some accuracy drop, try using __stride__ parameter. A stride=2 convolution should take roughly 1/4 of the default (stride=1) one.\n",
    " \n",
    "   \n",
    "### Data augmemntation\n",
    "   * getting 5x as large dataset for free is a great \n",
    "     * Zoom-in+slice = move\n",
    "     * Rotate+zoom(to remove black stripes)\n",
    "     * Add Noize (gaussian or bernoulli)\n",
    "   * Simple way to do that (if you have PIL/Image): \n",
    "     * ```from scipy.misc import imrotate,imresize```\n",
    "     * and a few slicing\n",
    "     * Other cool libraries: cv2, skimake, PIL/Pillow\n",
    "   * A more advanced way is to use torchvision transforms:\n",
    "    ```\n",
    "    transform_train = transforms.Compose([\n",
    "        transforms.RandomCrop(32, padding=4),\n",
    "        transforms.RandomHorizontalFlip(),\n",
    "        transforms.ToTensor(),\n",
    "        transforms.Normalize((0.4914, 0.4822, 0.4465), (0.2023, 0.1994, 0.2010)),\n",
    "    ])\n",
    "    trainset = torchvision.datasets.ImageFolder(root=path_to_tiny_imagenet, train=True, download=True, transform=transform_train)\n",
    "    trainloader = torch.utils.data.DataLoader(trainset, batch_size=128, shuffle=True, num_workers=2)\n",
    "\n",
    "    ```\n",
    "   * Or use this tool from Keras (requires theano/tensorflow): [tutorial](https://blog.keras.io/building-powerful-image-classification-models-using-very-little-data.html), [docs](https://keras.io/preprocessing/image/)\n",
    "   * Stay realistic. There's usually no point in flipping dogs upside down as that is not the way you usually see them.\n",
    "   \n"
   ]
  },
  {
   "cell_type": "code",
   "execution_count": 1,
   "metadata": {
    "colab": {},
    "colab_type": "code",
    "id": "Ka8fHvd-5fy1"
   },
   "outputs": [
    {
     "name": "stdout",
     "output_type": "stream",
     "text": [
      "Requirement already satisfied: matplotlib in /home/ddavidov/.venvs/dl/lib/python3.7/site-packages (3.0.3)\n",
      "Requirement already satisfied: pandas in /home/ddavidov/.venvs/dl/lib/python3.7/site-packages (0.24.2)\n",
      "Requirement already satisfied: torchsummary in /home/ddavidov/.venvs/dl/lib/python3.7/site-packages (1.5.1)\n",
      "Requirement already satisfied: sklearn in /home/ddavidov/.venvs/dl/lib/python3.7/site-packages (0.0)\n",
      "Requirement already satisfied: kiwisolver>=1.0.1 in /home/ddavidov/.venvs/dl/lib/python3.7/site-packages (from matplotlib) (1.0.1)\n",
      "Requirement already satisfied: pyparsing!=2.0.4,!=2.1.2,!=2.1.6,>=2.0.1 in /home/ddavidov/.venvs/dl/lib/python3.7/site-packages (from matplotlib) (2.3.1)\n",
      "Requirement already satisfied: python-dateutil>=2.1 in /home/ddavidov/.venvs/dl/lib/python3.7/site-packages (from matplotlib) (2.8.0)\n",
      "Requirement already satisfied: numpy>=1.10.0 in /home/ddavidov/.venvs/dl/lib/python3.7/site-packages (from matplotlib) (1.16.2)\n",
      "Requirement already satisfied: cycler>=0.10 in /home/ddavidov/.venvs/dl/lib/python3.7/site-packages (from matplotlib) (0.10.0)\n",
      "Requirement already satisfied: pytz>=2011k in /home/ddavidov/.venvs/dl/lib/python3.7/site-packages (from pandas) (2018.9)\n",
      "Requirement already satisfied: scikit-learn in /home/ddavidov/.venvs/dl/lib/python3.7/site-packages (from sklearn) (0.20.3)\n",
      "Requirement already satisfied: setuptools in /home/ddavidov/.venvs/dl/lib/python3.7/site-packages (from kiwisolver>=1.0.1->matplotlib) (40.6.2)\n",
      "Requirement already satisfied: six>=1.5 in /home/ddavidov/.venvs/dl/lib/python3.7/site-packages (from python-dateutil>=2.1->matplotlib) (1.12.0)\n",
      "Requirement already satisfied: scipy>=0.13.3 in /home/ddavidov/.venvs/dl/lib/python3.7/site-packages (from scikit-learn->sklearn) (1.2.1)\n"
     ]
    }
   ],
   "source": [
    "!pip install matplotlib pandas torchsummary sklearn\n",
    "\n",
    "import matplotlib.pyplot as plt\n",
    "import numpy as np\n",
    "import os\n",
    "import pandas as pd\n",
    "import random\n",
    "import shutil\n",
    "import time\n",
    "import torch, torch.nn as nn\n",
    "import torch.nn.functional as F\n",
    "import torchvision\n",
    "\n",
    "from IPython.display import clear_output\n",
    "from torch.autograd import Variable\n",
    "from torchsummary import summary\n",
    "from torchvision import transforms\n",
    "\n",
    "\n",
    "%matplotlib inline"
   ]
  },
  {
   "cell_type": "code",
   "execution_count": 2,
   "metadata": {
    "colab": {
     "base_uri": "https://localhost:8080/",
     "height": 225
    },
    "colab_type": "code",
    "id": "36y11ICM5fzK",
    "outputId": "909d6a60-1a17-4445-f6b0-146b818bb520"
   },
   "outputs": [
    {
     "name": "stdout",
     "output_type": "stream",
     "text": [
      "--2019-03-26 13:20:04--  https://raw.githubusercontent.com/yandexdataschool/Practical_DL/spring2019/week03_convnets/tiny_img.py\n",
      "Resolving raw.githubusercontent.com (raw.githubusercontent.com)... 151.101.36.133\n",
      "Connecting to raw.githubusercontent.com (raw.githubusercontent.com)|151.101.36.133|:443... connected.\n",
      "HTTP request sent, awaiting response... 200 OK\n",
      "Length: 3378 (3,3K) [text/plain]\n",
      "Saving to: ‘tiny_img.py’\n",
      "\n",
      "tiny_img.py         100%[===================>]   3,30K  --.-KB/s    in 0s      \n",
      "\n",
      "2019-03-26 13:20:05 (39,4 MB/s) - ‘tiny_img.py’ saved [3378/3378]\n",
      "\n",
      "./tiny-imagenet-200.zip\n"
     ]
    }
   ],
   "source": [
    "!wget https://raw.githubusercontent.com/yandexdataschool/Practical_DL/spring2019/week03_convnets/tiny_img.py -O tiny_img.py\n",
    "\n",
    "from tiny_img import download_tinyImg200\n",
    "data_path = '.'\n",
    "download_tinyImg200(data_path)\n",
    "dataset = torchvision.datasets.ImageFolder('tiny-imagenet-200/train', transform=transforms.ToTensor())\n",
    "train_dataset, val_dataset = torch.utils.data.random_split(dataset, [80000, 20000])"
   ]
  },
  {
   "cell_type": "code",
   "execution_count": 3,
   "metadata": {
    "colab": {},
    "colab_type": "code",
    "id": "RZ91Tmu1p0L-"
   },
   "outputs": [],
   "source": [
    "SRC_DIR = \"tiny-imagenet-200\"\n",
    "DS_DIR = \"ds\"\n",
    "VAL_SIZE = 0.2\n",
    "\n",
    "shutil.rmtree(DS_DIR, ignore_errors=True)\n",
    "for name in [\"train\", \"val\", \"test\"]:\n",
    "    os.makedirs(os.path.join(DS_DIR, name))\n",
    "\n",
    "train_dir = os.path.join(SRC_DIR, \"train\")\n",
    "for label in os.listdir(train_dir):\n",
    "    for image in os.listdir(os.path.join(train_dir, label, \"images\")):\n",
    "        dest_path = \"train\"\n",
    "        if random.random() <= VAL_SIZE:\n",
    "            dest_path = \"val\"\n",
    "        dest_path = os.path.join(DS_DIR, dest_path, label, \"images\")\n",
    "        os.makedirs(dest_path, exist_ok=True)\n",
    "        shutil.copyfile(\n",
    "            os.path.join(train_dir, label, \"images\", image),\n",
    "            os.path.join(dest_path, image),\n",
    "        )\n",
    "        \n",
    "annotations = pd.read_csv(os.path.join(SRC_DIR, \"val\", \"val_annotations.txt\"), header=None, sep=\"\\t\")\n",
    "for image, label in zip(annotations[0], annotations[1]):\n",
    "    dest_path = os.path.join(DS_DIR, \"test\", label, \"images\")\n",
    "    os.makedirs(dest_path, exist_ok=True)\n",
    "    shutil.copyfile(\n",
    "        os.path.join(SRC_DIR, \"val\", \"images\", image),\n",
    "        os.path.join(dest_path, image),\n",
    "    )"
   ]
  },
  {
   "cell_type": "code",
   "execution_count": 4,
   "metadata": {
    "colab": {},
    "colab_type": "code",
    "id": "PxliQHHz9Cq4"
   },
   "outputs": [],
   "source": [
    "# a special module that converts [batch, channel, w, h] to [batch, units]\n",
    "class Flatten(nn.Module):\n",
    "    def forward(self, input):\n",
    "        return input.view(input.size(0), -1)"
   ]
  },
  {
   "cell_type": "code",
   "execution_count": 15,
   "metadata": {
    "colab": {},
    "colab_type": "code",
    "id": "i3_sl3XK5fzk"
   },
   "outputs": [],
   "source": [
    "means = np.array((0.4914, 0.4822, 0.4465))\n",
    "stds = np.array((0.2023, 0.1994, 0.2010))\n",
    "crop_size = 60\n",
    "\n",
    "train_transform = transforms.Compose([\n",
    "    transforms.RandomRotation(20),\n",
    "    transforms.RandomHorizontalFlip(),\n",
    "    transforms.RandomCrop(size=crop_size),\n",
    "    transforms.ToTensor(),\n",
    "    transforms.Normalize(means, stds),\n",
    "])\n",
    "\n",
    "test_transform = transforms.Compose([\n",
    "    transforms.CenterCrop(size=crop_size),\n",
    "    transforms.ToTensor(),\n",
    "    transforms.Normalize(means, stds),\n",
    "])\n",
    "\n",
    "train_dataset = torchvision.datasets.ImageFolder(os.path.join(DS_DIR, \"train\"), transform=train_transform)\n",
    "val_dataset = torchvision.datasets.ImageFolder(os.path.join(DS_DIR, \"val\"), transform=test_transform)\n",
    "test_dataset = torchvision.datasets.ImageFolder(os.path.join(DS_DIR, \"val\"), transform=test_transform)\n",
    "\n",
    "batch_size = 250\n",
    "train_batch_gen = torch.utils.data.DataLoader(\n",
    "    train_dataset,\n",
    "    batch_size=batch_size,\n",
    "    shuffle=True,\n",
    "    num_workers=1,\n",
    ")\n",
    "val_batch_gen = torch.utils.data.DataLoader(\n",
    "    val_dataset,\n",
    "    batch_size=batch_size,\n",
    "    shuffle=True,\n",
    "    num_workers=1)\n",
    "test_batch_gen = torch.utils.data.DataLoader(\n",
    "    test_dataset,\n",
    "    batch_size=batch_size,\n",
    "    shuffle=True,\n",
    "    num_workers=1,\n",
    ")"
   ]
  },
  {
   "cell_type": "code",
   "execution_count": 16,
   "metadata": {
    "colab": {
     "base_uri": "https://localhost:8080/",
     "height": 364
    },
    "colab_type": "code",
    "id": "zTZN9_-Fu7Kp",
    "outputId": "167c0b7b-6f6f-498a-fe66-3337b8640aca"
   },
   "outputs": [
    {
     "name": "stdout",
     "output_type": "stream",
     "text": [
      "Dataset ImageFolder\n",
      "    Number of datapoints: 79907\n",
      "    Root Location: ds/train\n",
      "    Transforms (if any): Compose(\n",
      "                             RandomRotation(degrees=(-20, 20), resample=False, expand=False)\n",
      "                             RandomHorizontalFlip(p=0.5)\n",
      "                             RandomCrop(size=(60, 60), padding=None)\n",
      "                             ToTensor()\n",
      "                             Normalize(mean=[0.4914 0.4822 0.4465], std=[0.2023 0.1994 0.201 ])\n",
      "                         )\n",
      "    Target Transforms (if any): None\n",
      "Dataset ImageFolder\n",
      "    Number of datapoints: 20093\n",
      "    Root Location: ds/val\n",
      "    Transforms (if any): Compose(\n",
      "                             CenterCrop(size=(60, 60))\n",
      "                             ToTensor()\n",
      "                             Normalize(mean=[0.4914 0.4822 0.4465], std=[0.2023 0.1994 0.201 ])\n",
      "                         )\n",
      "    Target Transforms (if any): None\n"
     ]
    }
   ],
   "source": [
    "print(train_dataset)\n",
    "print(val_dataset)"
   ]
  },
  {
   "cell_type": "code",
   "execution_count": 17,
   "metadata": {
    "colab": {},
    "colab_type": "code",
    "id": "lPYe5XjP9NU-"
   },
   "outputs": [],
   "source": [
    "def compute_loss(X_batch, y_batch):\n",
    "    X_batch = Variable(torch.FloatTensor(X_batch)).cuda()\n",
    "    y_batch = Variable(torch.LongTensor(y_batch)).cuda()\n",
    "    logits = model.cuda()(X_batch)\n",
    "    return F.cross_entropy(logits, y_batch).mean()"
   ]
  },
  {
   "cell_type": "code",
   "execution_count": 18,
   "metadata": {
    "colab": {},
    "colab_type": "code",
    "id": "eCdy87Oy5fz3"
   },
   "outputs": [
    {
     "name": "stdout",
     "output_type": "stream",
     "text": [
      "----------------------------------------------------------------\n",
      "        Layer (type)               Output Shape         Param #\n",
      "================================================================\n",
      "            Conv2d-1            [1, 32, 60, 60]             896\n",
      "       BatchNorm2d-2            [1, 32, 60, 60]              64\n",
      "              ReLU-3            [1, 32, 60, 60]               0\n",
      "            Conv2d-4            [1, 32, 60, 60]           9,248\n",
      "         MaxPool2d-5            [1, 32, 30, 30]               0\n",
      "       BatchNorm2d-6            [1, 32, 30, 30]              64\n",
      "              ReLU-7            [1, 32, 30, 30]               0\n",
      "            Conv2d-8            [1, 64, 30, 30]          18,496\n",
      "       BatchNorm2d-9            [1, 64, 30, 30]             128\n",
      "             ReLU-10            [1, 64, 30, 30]               0\n",
      "           Conv2d-11            [1, 64, 30, 30]          36,928\n",
      "      BatchNorm2d-12            [1, 64, 30, 30]             128\n",
      "             ReLU-13            [1, 64, 30, 30]               0\n",
      "           Conv2d-14            [1, 64, 28, 28]          36,928\n",
      "        MaxPool2d-15            [1, 64, 14, 14]               0\n",
      "      BatchNorm2d-16            [1, 64, 14, 14]             128\n",
      "             ReLU-17            [1, 64, 14, 14]               0\n",
      "           Conv2d-18           [1, 128, 14, 14]          73,856\n",
      "      BatchNorm2d-19           [1, 128, 14, 14]             256\n",
      "             ReLU-20           [1, 128, 14, 14]               0\n",
      "           Conv2d-21           [1, 128, 14, 14]         147,584\n",
      "        MaxPool2d-22             [1, 128, 7, 7]               0\n",
      "      BatchNorm2d-23             [1, 128, 7, 7]             256\n",
      "             ReLU-24             [1, 128, 7, 7]               0\n",
      "           Conv2d-25             [1, 128, 7, 7]         147,584\n",
      "        MaxPool2d-26             [1, 128, 3, 3]               0\n",
      "      BatchNorm2d-27             [1, 128, 3, 3]             256\n",
      "             ReLU-28             [1, 128, 3, 3]               0\n",
      "          Flatten-29                  [1, 1152]               0\n",
      "           Linear-30                  [1, 1152]       1,328,256\n",
      "          Dropout-31                  [1, 1152]               0\n",
      "      BatchNorm1d-32                  [1, 1152]           2,304\n",
      "             ReLU-33                  [1, 1152]               0\n",
      "           Linear-34                   [1, 200]         230,600\n",
      "================================================================\n",
      "Total params: 2,033,960\n",
      "Trainable params: 2,033,960\n",
      "Non-trainable params: 0\n",
      "----------------------------------------------------------------\n",
      "Input size (MB): 0.04\n",
      "Forward/backward pass size (MB): 8.51\n",
      "Params size (MB): 7.76\n",
      "Estimated Total Size (MB): 16.31\n",
      "----------------------------------------------------------------\n"
     ]
    }
   ],
   "source": [
    "model = nn.Sequential(\n",
    "    nn.Conv2d(3, 32, kernel_size=3, padding=1),\n",
    "    nn.BatchNorm2d(32),\n",
    "    nn.ReLU(),\n",
    "    \n",
    "    nn.Conv2d(32, 32, kernel_size=3, padding=1),\n",
    "    nn.MaxPool2d(2),\n",
    "    nn.BatchNorm2d(32),\n",
    "    nn.ReLU(),\n",
    "    \n",
    "    nn.Conv2d(32, 64, kernel_size=3, padding=1),\n",
    "    nn.BatchNorm2d(64),\n",
    "    nn.ReLU(),\n",
    "    \n",
    "    nn.Conv2d(64, 64, kernel_size=3, padding=1),\n",
    "    nn.BatchNorm2d(64),\n",
    "    nn.ReLU(),\n",
    "    \n",
    "    nn.Conv2d(64, 64, kernel_size=3, padding=0),\n",
    "    nn.MaxPool2d(2),\n",
    "    nn.BatchNorm2d(64),\n",
    "    nn.ReLU(),\n",
    "    \n",
    "    nn.Conv2d(64, 128, kernel_size=3, padding=1),\n",
    "    nn.BatchNorm2d(128),\n",
    "    nn.ReLU(),\n",
    "    \n",
    "    nn.Conv2d(128, 128, kernel_size=3, padding=1),\n",
    "    nn.MaxPool2d(2),\n",
    "    nn.BatchNorm2d(128),\n",
    "    nn.ReLU(),\n",
    "    \n",
    "    nn.Conv2d(128, 128, kernel_size=3, padding=1),\n",
    "    nn.MaxPool2d(2),\n",
    "    nn.BatchNorm2d(128),\n",
    "    nn.ReLU(),\n",
    "    \n",
    "    Flatten(),\n",
    "    \n",
    "    nn.Linear(1152, 1152),\n",
    "    nn.Dropout(0.5),\n",
    "    nn.BatchNorm1d(1152),\n",
    "    nn.ReLU(),\n",
    "    \n",
    "    nn.Linear(1152, 200),\n",
    ")\n",
    "\n",
    "history = {\n",
    "    'train_loss': [],\n",
    "    'train_accuracy': [],\n",
    "    'val_accuracy': [],\n",
    "}\n",
    "\n",
    "summary(model.cuda(), (3, 60, 60), 1)"
   ]
  },
  {
   "cell_type": "code",
   "execution_count": 19,
   "metadata": {
    "colab": {
     "base_uri": "https://localhost:8080/",
     "height": 1066
    },
    "colab_type": "code",
    "id": "M1q2ZxHw5f0H",
    "outputId": "5798a58c-d688-478e-da92-880b84406ba2"
   },
   "outputs": [
    {
     "data": {
      "image/png": "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\n",
      "text/plain": [
       "<Figure size 720x720 with 1 Axes>"
      ]
     },
     "metadata": {
      "needs_background": "light"
     },
     "output_type": "display_data"
    },
    "colab_type": "code",
    "id": "DMubWpC65f0t",
    "outputId": "b7f0bc9d-f7c4-4af9-c0bd-06bd4f3f0af0"
   },
   "outputs": [
    {
     "name": "stdout",
     "output_type": "stream",
     "text": [
      "Epoch 100 of 100 took 110.749s\n",
      "\ttraining loss:\t\t\t2.615687\n",
      "\ttraining accuracy:\t\t39.54 %\n",
      "\tvalidation accuracy: \t\t36.94 %\n"
     ]
    }
   ],
   "source": [
    "opt = torch.optim.SGD(model.parameters(), lr=1e-2, momentum=0.99, weight_decay=1e-3)\n",
    "# opt = torch.optim.Adam(model.parameters(), weight_decay=1e-4)\n",
    "\n",
    "def plot_history(name):\n",
    "    plt.plot(np.arange(len(history[name])), history[name], label=name)\n",
    "\n",
    "num_epochs = 100 # total amount of full passes over training data\n",
    "\n",
    "for epoch in range(num_epochs):\n",
    "    start_time = time.time()\n",
    "    \n",
    "    model.train(True) # enable dropout / batch_norm training behavior\n",
    "    \n",
    "    train_loss = []\n",
    "    \n",
    "    for (X_batch, y_batch) in train_batch_gen:\n",
    "        # train on batch\n",
    "        loss = compute_loss(X_batch, y_batch)\n",
    "        loss.backward()\n",
    "        opt.step()\n",
    "        opt.zero_grad()\n",
    "        train_loss.append(loss.cpu().data.numpy())\n",
    "        \n",
    "    train_loss = np.mean(train_loss)\n",
    "    history['train_loss'].append(train_loss)\n",
    "    \n",
    "    \n",
    "    model.train(False) # disable dropout / use averages for batch_norm\n",
    "    \n",
    "    train_accuracy = []\n",
    "    \n",
    "    for X_batch, y_batch in train_batch_gen:\n",
    "        logits = model(Variable(torch.FloatTensor(X_batch)).cuda())\n",
    "        y_pred = logits.max(1)[1].data\n",
    "        train_accuracy.append(np.mean((y_batch.cpu() == y_pred.cpu()).numpy()))\n",
    "    \n",
    "    train_accuracy = np.mean(train_accuracy) * 100\n",
    "    history['train_accuracy'].append(train_accuracy)\n",
    "    \n",
    "    val_accuracy = []\n",
    "    \n",
    "    for X_batch, y_batch in val_batch_gen:\n",
    "        logits = model(Variable(torch.FloatTensor(X_batch)).cuda())\n",
    "        y_pred = logits.max(1)[1].data\n",
    "        val_accuracy.append(np.mean((y_batch.cpu() == y_pred.cpu()).numpy()))\n",
    "    \n",
    "    val_accuracy = np.mean(val_accuracy) * 100\n",
    "    history['val_accuracy'].append(val_accuracy)\n",
    "    \n",
    "    clear_output()\n",
    "    \n",
    "    plt.figure(figsize=(10, 10))\n",
    "    plot_history('train_loss')\n",
    "    plot_history('train_accuracy')\n",
    "    plot_history('val_accuracy')\n",
    "    plt.xlabel(\"Epoch\")\n",
    "    plt.legend()\n",
    "    plt.show()\n",
    "    \n",
    "    # Then we print the results for this epoch:\n",
    "    print(\"Epoch {} of {} took {:.3f}s\".format(epoch + 1, num_epochs, \n",
    "                                               time.time() - start_time))\n",
    "    print(\"\\ttraining loss:\\t\\t\\t{:.6f}\".format(train_loss))\n",
    "    print(\"\\ttraining accuracy:\\t\\t{:.2f} %\".format(train_accuracy))\n",
    "    print(\"\\tvalidation accuracy: \\t\\t{:.2f} %\".format(val_accuracy))"
   ]
  },
  {
   "cell_type": "markdown",
   "metadata": {
    "colab_type": "text",
    "id": "NLUH8W0z5f0S"
   },
   "source": [
    "\n",
    "When everything is done, please calculate accuracy on `tiny-imagenet-200/val`"
   ]
  },
  {
   "cell_type": "code",
   "execution_count": null,
   "metadata": {
    "colab": {},
    "colab_type": "code",
    "id": "0qfKSu7R5f0Y"
   },
   "outputs": [],
   "source": [
    "model.train(False)\n",
    "\n",
    "test_accuracy = []\n",
    "\n",
    "for X_batch, y_batch in test_batch_gen:\n",
    "    logits = model(Variable(torch.FloatTensor(X_batch)).cuda())\n",
    "    y_pred = logits.max(1)[1].data\n",
    "    test_accuracy.append(np.mean((y_batch.cpu() == y_pred.cpu()).numpy()))\n",
    "\n",
    "test_accuracy = np.mean(test_accuracy)"
   ]
  },
  {
   "cell_type": "code",
   "execution_count": null,
   "metadata": {
    "colab": {
     "base_uri": "https://localhost:8080/",
     "height": 69
    },
    "colab_type": "code",
    "id": "DMubWpC65f0t",
    "outputId": "b7f0bc9d-f7c4-4af9-c0bd-06bd4f3f0af0"
   },
   "outputs": [],
   "source": [
    "print(\"Final results:\")\n",
    "print(\"\\ttest accuracy:\\t\\t{:.2f} %\".format(test_accuracy * 100))\n",
    "\n",
    "if test_accuracy * 100 > 40:\n",
    "    print(\"Achievement unlocked: 110lvl Warlock!\")\n",
    "elif test_accuracy * 100 > 35:\n",
    "    print(\"Achievement unlocked: 80lvl Warlock!\")\n",
    "elif test_accuracy * 100 > 30:\n",
    "    print(\"Achievement unlocked: 70lvl Warlock!\")\n",
    "elif test_accuracy * 100 > 25:\n",
    "    print(\"Achievement unlocked: 60lvl Warlock!\")\n",
    "else:\n",
    "    print(\"We need more magic! Follow instructons below\")"
   ]
  },
  {
   "cell_type": "markdown",
   "metadata": {
    "colab_type": "text",
    "id": "6874_KBm5f1H"
   },
   "source": [
    "```\n",
    "\n",
    "```\n",
    "\n",
    "```\n",
    "\n",
    "```\n",
    "\n",
    "```\n",
    "\n",
    "```\n",
    "\n",
    "\n",
    "# Report\n",
    "\n",
    "All creative approaches are highly welcome, but at the very least it would be great to mention\n",
    "* the idea;\n",
    "* brief history of tweaks and improvements;\n",
    "* what is the final architecture and why?\n",
    "* what is the training method and, again, why?\n",
    "* Any regularizations and other techniques applied and their effects;\n",
    "\n",
    "\n",
    "There is no need to write strict mathematical proofs (unless you want to).\n",
    " * \"I tried this, this and this, and the second one turned out to be better. And i just didn't like the name of that one\" - OK, but can be better\n",
    " * \"I have analized these and these articles|sources|blog posts, tried that and that to adapt them to my problem and the conclusions are such and such\" - the ideal one\n",
    " * \"I took that code that demo without understanding it, but i'll never confess that and instead i'll make up some pseudoscientific explaination\" - __not_ok__"
   ]
  },
  {
   "cell_type": "markdown",
   "metadata": {
    "colab_type": "text",
    "id": "ycriyXyi5f1U"
   },
   "source": [
    "### Hi, my name is `Dmitry`, and here's my story\n",
    "\n",
    "A long time ago in a galaxy far far away, when it was still more than an hour before the deadline, i got an idea:\n",
    "\n",
    "##### I gonna build a neural network, that\n",
    "classifies images from \"Tiny ImageNet 200\" dataset using several convolution hidden layers.\n",
    "\n",
    "##### One day, with no signs of warning,\n",
    "This thing has finally converged and\n",
    "* SGD with momentum works better than Adam\n",
    "* Data augumentation works fantastically!\n",
    "\n",
    "##### Finally, after 300  iterations, 7 mugs of [tea/coffee]\n",
    "* Added `padding=1` to `Conv2d` layers\n",
    "* Removed extra `MaxPool2d` \n",
    "* Started using less features but increased receptieve field\n",
    "* 6 Conv2d with kernel size 3x3 means 64x64 receptive filed (fully covers image)\n",
    "* Added momentum and L2 regularization SGD to optimizer\n",
    "* Increased dropout (0.5) and weight decate (1e-3)\n",
    "\n",
    "That, having wasted 24 [minutes, hours or days] of my life training, got\n",
    "\n",
    "* accuracy on training: __\n",
    "* accuracy on validation: __\n",
    "* accuracy on test: __\n",
    "\n",
    "\n",
    "Thank you for you work! =)"
   ]
  }
 ],
 "metadata": {
  "accelerator": "GPU",
  "colab": {
   "include_colab_link": true,
   "name": "homework_part2.ipynb",
   "provenance": [],
   "version": "0.3.2"
  },
  "kernelspec": {
   "display_name": "Python 3",
   "language": "python",
   "name": "python3"
  },
  "language_info": {
   "codemirror_mode": {
    "name": "ipython",
    "version": 3
   },
   "file_extension": ".py",
   "mimetype": "text/x-python",
   "name": "python",
   "nbconvert_exporter": "python",
   "pygments_lexer": "ipython3",
   "version": "3.7.2"
  }
 },
 "nbformat": 4,
 "nbformat_minor": 1
}

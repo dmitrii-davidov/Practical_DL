{
 "cells": [
  {
   "cell_type": "markdown",
   "metadata": {
    "colab_type": "text",
    "id": "view-in-github"
   },
   "source": [
    "<a href=\"https://colab.research.google.com/github/dmitrii-davidov/ysda-deep-learning/blob/spring2019/homework02/homework_part2.ipynb\" target=\"_parent\"><img src=\"https://colab.research.google.com/assets/colab-badge.svg\" alt=\"Open In Colab\"/></a>"
   ]
  },
  {
   "cell_type": "markdown",
   "metadata": {
    "colab_type": "text",
    "collapsed": true,
    "id": "qirJRPYD5fyd"
   },
   "source": [
    "# Homework 2.2: The Quest For A Better Network\n",
    "\n",
    "In this assignment you will build a monster network to solve Tiny ImageNet image classification.\n",
    "\n",
    "This notebook is intended as a sequel to seminar 3, please give it a try if you haven't done so yet."
   ]
  },
  {
   "cell_type": "markdown",
   "metadata": {
    "colab_type": "text",
    "id": "a7-ytD1O5fyr"
   },
   "source": [
    "(please read it at least diagonally)\n",
    "\n",
    "* The ultimate quest is to create a network that has as high __accuracy__ as you can push it.\n",
    "* There is a __mini-report__ at the end that you will have to fill in. We recommend reading it first and filling it while you iterate.\n",
    " \n",
    "## Grading\n",
    "* starting at zero points\n",
    "* +20% for describing your iteration path in a report below.\n",
    "* +20% for building a network that gets above 20% accuracy\n",
    "* +10% for beating each of these milestones on __TEST__ dataset:\n",
    "    * 25% (50% points)\n",
    "    * 30% (60% points)\n",
    "    * 32.5% (70% points)\n",
    "    * 35% (80% points)\n",
    "    * 37.5% (90% points)\n",
    "    * 40% (full points)\n",
    "    \n",
    "## Restrictions\n",
    "* Please do NOT use pre-trained networks for this assignment until you reach 40%.\n",
    " * In other words, base milestones must be beaten without pre-trained nets (and such net must be present in the anytask atttachments). After that, you can use whatever you want.\n",
    "* you __can't__ do anything with validation data apart from running the evaluation procedure. Please, split train images on train and validation parts\n",
    "\n",
    "## Tips on what can be done:\n",
    "\n",
    "\n",
    " * __Network size__\n",
    "   * MOAR neurons, \n",
    "   * MOAR layers, ([torch.nn docs](http://pytorch.org/docs/master/nn.html))\n",
    "\n",
    "   * Nonlinearities in the hidden layers\n",
    "     * tanh, relu, leaky relu, etc\n",
    "   * Larger networks may take more epochs to train, so don't discard your net just because it could didn't beat the baseline in 5 epochs.\n",
    "\n",
    "   * Ph'nglui mglw'nafh Cthulhu R'lyeh wgah'nagl fhtagn!\n",
    "\n",
    "\n",
    "### The main rule of prototyping: one change at a time\n",
    "   * By now you probably have several ideas on what to change. By all means, try them out! But there's a catch: __never test several new things at once__.\n",
    "\n",
    "\n",
    "### Optimization\n",
    "   * Training for 100 epochs regardless of anything is probably a bad idea.\n",
    "   * Some networks converge over 5 epochs, others - over 500.\n",
    "   * Way to go: stop when validation score is 10 iterations past maximum\n",
    "   * You should certainly use adaptive optimizers\n",
    "     * rmsprop, nesterov_momentum, adam, adagrad and so on.\n",
    "     * Converge faster and sometimes reach better optima\n",
    "     * It might make sense to tweak learning rate/momentum, other learning parameters, batch size and number of epochs\n",
    "   * __BatchNormalization__ (nn.BatchNorm2d) for the win!\n",
    "     * Sometimes more batch normalization is better.\n",
    "   * __Regularize__ to prevent overfitting\n",
    "     * Add some L2 weight norm to the loss function, PyTorch will do the rest\n",
    "       * Can be done manually or like [this](https://discuss.pytorch.org/t/simple-l2-regularization/139/2).\n",
    "     * Dropout (`nn.Dropout`) - to prevent overfitting\n",
    "       * Don't overdo it. Check if it actually makes your network better\n",
    "   \n",
    "### Convolution architectures\n",
    "   * This task __can__ be solved by a sequence of convolutions and poolings with batch_norm and ReLU seasoning, but you shouldn't necessarily stop there.\n",
    "   * [Inception family](https://hacktilldawn.com/2016/09/25/inception-modules-explained-and-implemented/), [ResNet family](https://towardsdatascience.com/an-overview-of-resnet-and-its-variants-5281e2f56035?gi=9018057983ca), [Densely-connected convolutions (exotic)](https://arxiv.org/abs/1608.06993), [Capsule networks (exotic)](https://arxiv.org/abs/1710.09829)\n",
    "   * Please do try a few simple architectures before you go for resnet-152.\n",
    "   * Warning! Training convolutional networks can take long without GPU. That's okay.\n",
    "     * If you are CPU-only, we still recomment that you try a simple convolutional architecture\n",
    "     * a perfect option is if you can set it up to run at nighttime and check it up at the morning.\n",
    "     * Make reasonable layer size estimates. A 128-neuron first convolution is likely an overkill.\n",
    "     * __To reduce computation__ time by a factor in exchange for some accuracy drop, try using __stride__ parameter. A stride=2 convolution should take roughly 1/4 of the default (stride=1) one.\n",
    " \n",
    "   \n",
    "### Data augmemntation\n",
    "   * getting 5x as large dataset for free is a great \n",
    "     * Zoom-in+slice = move\n",
    "     * Rotate+zoom(to remove black stripes)\n",
    "     * Add Noize (gaussian or bernoulli)\n",
    "   * Simple way to do that (if you have PIL/Image): \n",
    "     * ```from scipy.misc import imrotate,imresize```\n",
    "     * and a few slicing\n",
    "     * Other cool libraries: cv2, skimake, PIL/Pillow\n",
    "   * A more advanced way is to use torchvision transforms:\n",
    "    ```\n",
    "    transform_train = transforms.Compose([\n",
    "        transforms.RandomCrop(32, padding=4),\n",
    "        transforms.RandomHorizontalFlip(),\n",
    "        transforms.ToTensor(),\n",
    "        transforms.Normalize((0.4914, 0.4822, 0.4465), (0.2023, 0.1994, 0.2010)),\n",
    "    ])\n",
    "    trainset = torchvision.datasets.ImageFolder(root=path_to_tiny_imagenet, train=True, download=True, transform=transform_train)\n",
    "    trainloader = torch.utils.data.DataLoader(trainset, batch_size=128, shuffle=True, num_workers=2)\n",
    "\n",
    "    ```\n",
    "   * Or use this tool from Keras (requires theano/tensorflow): [tutorial](https://blog.keras.io/building-powerful-image-classification-models-using-very-little-data.html), [docs](https://keras.io/preprocessing/image/)\n",
    "   * Stay realistic. There's usually no point in flipping dogs upside down as that is not the way you usually see them.\n",
    "   \n"
   ]
  },
  {
   "cell_type": "code",
   "execution_count": 0,
   "metadata": {
    "colab": {},
    "colab_type": "code",
    "id": "Ka8fHvd-5fy1"
   },
   "outputs": [],
   "source": [
    "import matplotlib.pyplot as plt\n",
    "import numpy as np\n",
    "import os\n",
    "import pandas as pd\n",
    "import random\n",
    "import shutil\n",
    "import time\n",
    "import torch, torch.nn as nn\n",
    "import torch.nn.functional as F\n",
    "import torchvision\n",
    "\n",
    "from IPython.display import clear_output\n",
    "from torch.autograd import Variable\n",
    "from torchsummary import summary\n",
    "from torchvision import transforms\n",
    "\n",
    "\n",
    "%matplotlib inline"
   ]
  },
  {
   "cell_type": "code",
   "execution_count": 2,
   "metadata": {
    "colab": {
     "base_uri": "https://localhost:8080/",
     "height": 225
    },
    "colab_type": "code",
    "id": "36y11ICM5fzK",
    "outputId": "909d6a60-1a17-4445-f6b0-146b818bb520"
   },
   "outputs": [
    {
     "name": "stdout",
     "output_type": "stream",
     "text": [
      "--2019-03-18 18:09:13--  https://raw.githubusercontent.com/yandexdataschool/Practical_DL/spring2019/week03_convnets/tiny_img.py\n",
      "Resolving raw.githubusercontent.com (raw.githubusercontent.com)... 151.101.0.133, 151.101.64.133, 151.101.128.133, ...\n",
      "Connecting to raw.githubusercontent.com (raw.githubusercontent.com)|151.101.0.133|:443... connected.\n",
      "HTTP request sent, awaiting response... 200 OK\n",
      "Length: 3378 (3.3K) [text/plain]\n",
      "Saving to: ‘tiny_img.py’\n",
      "\n",
      "\r",
      "tiny_img.py           0%[                    ]       0  --.-KB/s               \r",
      "tiny_img.py         100%[===================>]   3.30K  --.-KB/s    in 0s      \n",
      "\n",
      "2019-03-18 18:09:13 (53.2 MB/s) - ‘tiny_img.py’ saved [3378/3378]\n",
      "\n",
      "./tiny-imagenet-200.zip\n"
     ]
    }
   ],
   "source": [
    "!wget https://raw.githubusercontent.com/yandexdataschool/Practical_DL/spring2019/week03_convnets/tiny_img.py -O tiny_img.py\n",
    "\n",
    "from tiny_img import download_tinyImg200\n",
    "data_path = '.'\n",
    "download_tinyImg200(data_path)\n",
    "dataset = torchvision.datasets.ImageFolder('tiny-imagenet-200/train', transform=transforms.ToTensor())\n",
    "train_dataset, val_dataset = torch.utils.data.random_split(dataset, [80000, 20000])"
   ]
  },
  {
   "cell_type": "code",
   "execution_count": 0,
   "metadata": {
    "colab": {},
    "colab_type": "code",
    "id": "RZ91Tmu1p0L-"
   },
   "outputs": [],
   "source": [
    "SRC_DIR = \"tiny-imagenet-200\"\n",
    "DS_DIR = \"ds\"\n",
    "VAL_SIZE = 0.1\n",
    "\n",
    "shutil.rmtree(DS_DIR, ignore_errors=True)\n",
    "for name in [\"train\", \"val\", \"test\"]:\n",
    "    os.makedirs(os.path.join(DS_DIR, name))\n",
    "\n",
    "train_dir = os.path.join(SRC_DIR, \"train\")\n",
    "for label in os.listdir(train_dir):\n",
    "    for image in os.listdir(os.path.join(train_dir, label, \"images\")):\n",
    "        dest_path = \"train\"\n",
    "        if random.random() <= VAL_SIZE:\n",
    "            dest_path = \"val\"\n",
    "        dest_path = os.path.join(DS_DIR, dest_path, label, \"images\")\n",
    "        os.makedirs(dest_path, exist_ok=True)\n",
    "        shutil.copyfile(\n",
    "            os.path.join(train_dir, label, \"images\", image),\n",
    "            os.path.join(dest_path, image),\n",
    "        )\n",
    "        \n",
    "annotations = pd.read_csv(os.path.join(SRC_DIR, \"val\", \"val_annotations.txt\"), header=None, sep=\"\\t\")\n",
    "for image, label in zip(annotations[0], annotations[1]):\n",
    "    dest_path = os.path.join(DS_DIR, \"test\", label, \"images\")\n",
    "    os.makedirs(dest_path, exist_ok=True)\n",
    "    shutil.copyfile(\n",
    "        os.path.join(SRC_DIR, \"val\", \"images\", image),\n",
    "        os.path.join(dest_path, image),\n",
    "    )"
   ]
  },
  {
   "cell_type": "code",
   "execution_count": 0,
   "metadata": {
    "colab": {},
    "colab_type": "code",
    "id": "PxliQHHz9Cq4"
   },
   "outputs": [],
   "source": [
    "# a special module that converts [batch, channel, w, h] to [batch, units]\n",
    "class Flatten(nn.Module):\n",
    "    def forward(self, input):\n",
    "        return input.view(input.size(0), -1)"
   ]
  },
  {
   "cell_type": "code",
   "execution_count": 0,
   "metadata": {
    "colab": {},
    "colab_type": "code",
    "id": "i3_sl3XK5fzk"
   },
   "outputs": [],
   "source": [
    "means = np.array((0.4914, 0.4822, 0.4465))\n",
    "stds = np.array((0.2023, 0.1994, 0.2010))\n",
    "crop_size = 60\n",
    "\n",
    "train_transform = transforms.Compose([\n",
    "    transforms.RandomRotation(15),\n",
    "    transforms.RandomHorizontalFlip(),\n",
    "    transforms.RandomCrop(size=crop_size),\n",
    "    transforms.ToTensor(),\n",
    "    transforms.Normalize(means, stds),\n",
    "])\n",
    "\n",
    "test_transform = transforms.Compose([\n",
    "    transforms.CenterCrop(size=crop_size),\n",
    "    transforms.ToTensor(),\n",
    "    transforms.Normalize(means, stds),\n",
    "])\n",
    "\n",
    "train_dataset = torchvision.datasets.ImageFolder(os.path.join(DS_DIR, \"train\"), transform=train_transform)\n",
    "val_dataset = torchvision.datasets.ImageFolder(os.path.join(DS_DIR, \"val\"), transform=test_transform)\n",
    "test_dataset = torchvision.datasets.ImageFolder(os.path.join(DS_DIR, \"val\"), transform=test_transform)\n",
    "\n",
    "batch_size = 100\n",
    "train_batch_gen = torch.utils.data.DataLoader(\n",
    "    train_dataset,\n",
    "    batch_size=batch_size,\n",
    "    shuffle=True,\n",
    "    num_workers=1,\n",
    ")\n",
    "val_batch_gen = torch.utils.data.DataLoader(\n",
    "    val_dataset,\n",
    "    batch_size=batch_size,\n",
    "    shuffle=True,\n",
    "    num_workers=1)\n",
    "test_batch_gen = torch.utils.data.DataLoader(\n",
    "    test_dataset,\n",
    "    batch_size=batch_size,\n",
    "    shuffle=True,\n",
    "    num_workers=1,\n",
    ")"
   ]
  },
  {
   "cell_type": "code",
   "execution_count": 11,
   "metadata": {
    "colab": {
     "base_uri": "https://localhost:8080/",
     "height": 364
    },
    "colab_type": "code",
    "id": "zTZN9_-Fu7Kp",
    "outputId": "167c0b7b-6f6f-498a-fe66-3337b8640aca"
   },
   "outputs": [
    {
     "name": "stdout",
     "output_type": "stream",
     "text": [
      "Dataset ImageFolder\n",
      "    Number of datapoints: 90078\n",
      "    Root Location: ds/train\n",
      "    Transforms (if any): Compose(\n",
      "                             RandomRotation(degrees=(-15, 15), resample=False, expand=False)\n",
      "                             RandomHorizontalFlip(p=0.5)\n",
      "                             RandomCrop(size=(60, 60), padding=None)\n",
      "                             ToTensor()\n",
      "                             Normalize(mean=[0.4914 0.4822 0.4465], std=[0.2023 0.1994 0.201 ])\n",
      "                         )\n",
      "    Target Transforms (if any): None\n",
      "Dataset ImageFolder\n",
      "    Number of datapoints: 9922\n",
      "    Root Location: ds/val\n",
      "    Transforms (if any): Compose(\n",
      "                             CenterCrop(size=(60, 60))\n",
      "                             ToTensor()\n",
      "                             Normalize(mean=[0.4914 0.4822 0.4465], std=[0.2023 0.1994 0.201 ])\n",
      "                         )\n",
      "    Target Transforms (if any): None\n"
     ]
    }
   ],
   "source": [
    "print(train_dataset)\n",
    "print(val_dataset)"
   ]
  },
  {
   "cell_type": "code",
   "execution_count": 0,
   "metadata": {
    "colab": {},
    "colab_type": "code",
    "id": "lPYe5XjP9NU-"
   },
   "outputs": [],
   "source": [
    "def compute_loss(X_batch, y_batch):\n",
    "    X_batch = Variable(torch.FloatTensor(X_batch)).cuda()\n",
    "    y_batch = Variable(torch.LongTensor(y_batch)).cuda()\n",
    "    logits = model.cuda()(X_batch)\n",
    "    return F.cross_entropy(logits, y_batch).mean()"
   ]
  },
  {
   "cell_type": "code",
   "execution_count": 0,
   "metadata": {
    "colab": {},
    "colab_type": "code",
    "id": "eCdy87Oy5fz3"
   },
   "outputs": [],
   "source": [
    "model = nn.Sequential(\n",
    "    nn.Conv2d(3, 64, kernel_size=3, padding=1),\n",
    "    nn.BatchNorm2d(64),\n",
    "    nn.ReLU(),\n",
    "    \n",
    "    nn.Conv2d(64, 64, kernel_size=3, padding=1),\n",
    "    nn.BatchNorm2d(64),\n",
    "    nn.ReLU(),\n",
    "    \n",
    "    nn.Conv2d(64, 64, kernel_size=3, padding=0),\n",
    "    nn.MaxPool2d(2),\n",
    "    nn.BatchNorm2d(64),\n",
    "    nn.ReLU(),\n",
    "    \n",
    "    nn.Conv2d(64, 128, kernel_size=3, padding=1),\n",
    "    nn.BatchNorm2d(128),\n",
    "    nn.ReLU(),\n",
    "    \n",
    "    nn.Conv2d(128, 128, kernel_size=3, padding=1),\n",
    "    nn.MaxPool2d(2),\n",
    "    nn.BatchNorm2d(128),\n",
    "    nn.ReLU(),\n",
    "    \n",
    "    nn.Conv2d(128, 128, kernel_size=3, padding=1),\n",
    "    nn.MaxPool2d(2),\n",
    "    nn.BatchNorm2d(128),\n",
    "    nn.ReLU(),\n",
    "    \n",
    "    Flatten(),\n",
    "    \n",
    "    nn.Linear(6272, 1024),\n",
    "    nn.Dropout(0.4),\n",
    "    nn.BatchNorm1d(1024),\n",
    "    nn.ReLU(),\n",
    "    \n",
    "    nn.Linear(1024, 200),\n",
    ")\n",
    "\n",
    "history = {\n",
    "    'train_loss': [],\n",
    "    'train_accuracy': [],\n",
    "    'val_accuracy': [],\n",
    "}"
   ]
  },
  {
   "cell_type": "code",
   "execution_count": 49,
   "metadata": {
    "colab": {
     "base_uri": "https://localhost:8080/",
     "height": 712
    },
    "colab_type": "code",
    "id": "3exFSEwcYPaY",
    "outputId": "45a4d1d5-a699-43d1-9602-2cf3ecebc9b4"
   },
   "outputs": [
    {
     "name": "stdout",
     "output_type": "stream",
     "text": [
      "----------------------------------------------------------------\n",
      "        Layer (type)               Output Shape         Param #\n",
      "================================================================\n",
      "            Conv2d-1            [1, 64, 60, 60]           1,792\n",
      "       BatchNorm2d-2            [1, 64, 60, 60]             128\n",
      "              ReLU-3            [1, 64, 60, 60]               0\n",
      "            Conv2d-4            [1, 64, 60, 60]          36,928\n",
      "       BatchNorm2d-5            [1, 64, 60, 60]             128\n",
      "              ReLU-6            [1, 64, 60, 60]               0\n",
      "            Conv2d-7            [1, 64, 58, 58]          36,928\n",
      "         MaxPool2d-8            [1, 64, 29, 29]               0\n",
      "       BatchNorm2d-9            [1, 64, 29, 29]             128\n",
      "             ReLU-10            [1, 64, 29, 29]               0\n",
      "           Conv2d-11           [1, 128, 29, 29]          73,856\n",
      "      BatchNorm2d-12           [1, 128, 29, 29]             256\n",
      "             ReLU-13           [1, 128, 29, 29]               0\n",
      "           Conv2d-14           [1, 128, 29, 29]         147,584\n",
      "        MaxPool2d-15           [1, 128, 14, 14]               0\n",
      "      BatchNorm2d-16           [1, 128, 14, 14]             256\n",
      "             ReLU-17           [1, 128, 14, 14]               0\n",
      "           Conv2d-18           [1, 128, 14, 14]         147,584\n",
      "        MaxPool2d-19             [1, 128, 7, 7]               0\n",
      "      BatchNorm2d-20             [1, 128, 7, 7]             256\n",
      "             ReLU-21             [1, 128, 7, 7]               0\n",
      "          Flatten-22                  [1, 6272]               0\n",
      "           Linear-23                  [1, 1024]       6,423,552\n",
      "          Dropout-24                  [1, 1024]               0\n",
      "      BatchNorm1d-25                  [1, 1024]           2,048\n",
      "             ReLU-26                  [1, 1024]               0\n",
      "           Linear-27                   [1, 200]         205,000\n",
      "================================================================\n",
      "Total params: 7,076,424\n",
      "Trainable params: 7,076,424\n",
      "Non-trainable params: 0\n",
      "----------------------------------------------------------------\n",
      "Input size (MB): 0.04\n",
      "Forward/backward pass size (MB): 17.70\n",
      "Params size (MB): 26.99\n",
      "Estimated Total Size (MB): 44.73\n",
      "----------------------------------------------------------------\n"
     ]
    }
   ],
   "source": [
    "# model[23] = nn.Dropout(0.5)\n",
    "# model[24], model[25] = model[25], model[24]\n",
    "\n",
    "summary(model.cuda(), (3, 60, 60), 1)"
   ]
  },
  {
   "cell_type": "code",
   "execution_count": 62,
   "metadata": {
    "colab": {
     "base_uri": "https://localhost:8080/",
     "height": 1066
    },
    "colab_type": "code",
    "id": "M1q2ZxHw5f0H",
    "outputId": "5798a58c-d688-478e-da92-880b84406ba2"
   },
   "outputs": [
    {
     "data": {
      "image/png": "[encoded data removed]",
      "text/plain": [
       "<Figure size 720x720 with 1 Axes>"
      ]
     },
     "metadata": {
      "tags": []
     },
     "output_type": "display_data"
    },
    {
     "name": "stdout",
     "output_type": "stream",
     "text": [
      "Epoch 1 of 4 took 259.916s\n",
      "\ttraining loss:\t\t\t2.463219\n",
      "\ttraining accuracy:\t\t45.37 %\n",
      "\tvalidation accuracy: \t\t39.87 %\n"
     ]
    },
    {
     "name": "stderr",
     "output_type": "stream",
     "text": [
      "Traceback (most recent call last):\n",
      "  File \"/usr/lib/python3.6/multiprocessing/queues.py\", line 240, in _feed\n",
      "    send_bytes(obj)\n",
      "  File \"/usr/lib/python3.6/multiprocessing/connection.py\", line 200, in send_bytes\n",
      "    self._send_bytes(m[offset:offset + size])\n",
      "  File \"/usr/lib/python3.6/multiprocessing/connection.py\", line 404, in _send_bytes\n",
      "    self._send(header + buf)\n",
      "  File \"/usr/lib/python3.6/multiprocessing/connection.py\", line 368, in _send\n",
      "    n = write(self._handle, buf)\n",
      "BrokenPipeError: [Errno 32] Broken pipe\n"
     ]
    },
    {
     "ename": "KeyboardInterrupt",
     "evalue": "ignored",
     "output_type": "error",
     "traceback": [
      "\u001b[0;31m---------------------------------------------------------------------------\u001b[0m",
      "\u001b[0;31mKeyboardInterrupt\u001b[0m                         Traceback (most recent call last)",
      "\u001b[0;32m<ipython-input-62-be4d95435bcd>\u001b[0m in \u001b[0;36m<module>\u001b[0;34m()\u001b[0m\n\u001b[1;32m     20\u001b[0m         \u001b[0mopt\u001b[0m\u001b[0;34m.\u001b[0m\u001b[0mstep\u001b[0m\u001b[0;34m(\u001b[0m\u001b[0;34m)\u001b[0m\u001b[0;34m\u001b[0m\u001b[0;34m\u001b[0m\u001b[0m\n\u001b[1;32m     21\u001b[0m         \u001b[0mopt\u001b[0m\u001b[0;34m.\u001b[0m\u001b[0mzero_grad\u001b[0m\u001b[0;34m(\u001b[0m\u001b[0;34m)\u001b[0m\u001b[0;34m\u001b[0m\u001b[0;34m\u001b[0m\u001b[0m\n\u001b[0;32m---> 22\u001b[0;31m         \u001b[0mtrain_loss\u001b[0m\u001b[0;34m.\u001b[0m\u001b[0mappend\u001b[0m\u001b[0;34m(\u001b[0m\u001b[0mloss\u001b[0m\u001b[0;34m.\u001b[0m\u001b[0mcpu\u001b[0m\u001b[0;34m(\u001b[0m\u001b[0;34m)\u001b[0m\u001b[0;34m.\u001b[0m\u001b[0mdata\u001b[0m\u001b[0;34m.\u001b[0m\u001b[0mnumpy\u001b[0m\u001b[0;34m(\u001b[0m\u001b[0;34m)\u001b[0m\u001b[0;34m)\u001b[0m\u001b[0;34m\u001b[0m\u001b[0;34m\u001b[0m\u001b[0m\n\u001b[0m\u001b[1;32m     23\u001b[0m \u001b[0;34m\u001b[0m\u001b[0m\n\u001b[1;32m     24\u001b[0m     \u001b[0mtrain_loss\u001b[0m \u001b[0;34m=\u001b[0m \u001b[0mnp\u001b[0m\u001b[0;34m.\u001b[0m\u001b[0mmean\u001b[0m\u001b[0;34m(\u001b[0m\u001b[0mtrain_loss\u001b[0m\u001b[0;34m)\u001b[0m\u001b[0;34m\u001b[0m\u001b[0;34m\u001b[0m\u001b[0m\n",
      "\u001b[0;31mKeyboardInterrupt\u001b[0m: "
     ]
    }
   ],
   "source": [
    "opt = torch.optim.SGD(model.parameters(), lr=1e-2, momentum=0.8, weight_decay=1e-4)\n",
    "# opt = torch.optim.Adam(model.parameters(), weight_decay=1e-4)\n",
    "\n",
    "def plot_history(name):\n",
    "    plt.plot(np.arange(len(history[name])), history[name], label=name)\n",
    "\n",
    "num_epochs = 4 # total amount of full passes over training data\n",
    "\n",
    "for epoch in range(num_epochs):\n",
    "    start_time = time.time()\n",
    "    \n",
    "    model.train(True) # enable dropout / batch_norm training behavior\n",
    "    \n",
    "    train_loss = []\n",
    "    \n",
    "    for (X_batch, y_batch) in train_batch_gen:\n",
    "        # train on batch\n",
    "        loss = compute_loss(X_batch, y_batch)\n",
    "        loss.backward()\n",
    "        opt.step()\n",
    "        opt.zero_grad()\n",
    "        train_loss.append(loss.cpu().data.numpy())\n",
    "        \n",
    "    train_loss = np.mean(train_loss)\n",
    "    history['train_loss'].append(train_loss)\n",
    "    \n",
    "    \n",
    "    model.train(False) # disable dropout / use averages for batch_norm\n",
    "    \n",
    "    train_accuracy = []\n",
    "    \n",
    "    for X_batch, y_batch in train_batch_gen:\n",
    "        logits = model(Variable(torch.FloatTensor(X_batch)).cuda())\n",
    "        y_pred = logits.max(1)[1].data\n",
    "        train_accuracy.append(np.mean((y_batch.cpu() == y_pred.cpu()).numpy()))\n",
    "    \n",
    "    train_accuracy = np.mean(train_accuracy) * 100\n",
    "    history['train_accuracy'].append(train_accuracy)\n",
    "    \n",
    "    val_accuracy = []\n",
    "    \n",
    "    for X_batch, y_batch in val_batch_gen:\n",
    "        logits = model(Variable(torch.FloatTensor(X_batch)).cuda())\n",
    "        y_pred = logits.max(1)[1].data\n",
    "        val_accuracy.append(np.mean((y_batch.cpu() == y_pred.cpu()).numpy()))\n",
    "    \n",
    "    val_accuracy = np.mean(val_accuracy) * 100\n",
    "    history['val_accuracy'].append(val_accuracy)\n",
    "    \n",
    "    clear_output()\n",
    "    \n",
    "    plt.figure(figsize=(10, 10))\n",
    "    plot_history('train_loss')\n",
    "    plot_history('train_accuracy')\n",
    "    plot_history('val_accuracy')\n",
    "    plt.xlabel(\"Epoch\")\n",
    "    plt.legend()\n",
    "    plt.show()\n",
    "    \n",
    "    # Then we print the results for this epoch:\n",
    "    print(\"Epoch {} of {} took {:.3f}s\".format(epoch + 1, num_epochs, \n",
    "                                               time.time() - start_time))\n",
    "    print(\"\\ttraining loss:\\t\\t\\t{:.6f}\".format(train_loss))\n",
    "    print(\"\\ttraining accuracy:\\t\\t{:.2f} %\".format(train_accuracy))\n",
    "    print(\"\\tvalidation accuracy: \\t\\t{:.2f} %\".format(val_accuracy))"
   ]
  },
  {
   "cell_type": "markdown",
   "metadata": {
    "colab_type": "text",
    "id": "NLUH8W0z5f0S"
   },
   "source": [
    "\n",
    "When everything is done, please calculate accuracy on `tiny-imagenet-200/val`"
   ]
  },
  {
   "cell_type": "code",
   "execution_count": 0,
   "metadata": {
    "colab": {},
    "colab_type": "code",
    "id": "0qfKSu7R5f0Y"
   },
   "outputs": [],
   "source": [
    "model.train(False)\n",
    "\n",
    "test_accuracy = []\n",
    "\n",
    "for X_batch, y_batch in test_batch_gen:\n",
    "    logits = model(Variable(torch.FloatTensor(X_batch)).cuda())\n",
    "    y_pred = logits.max(1)[1].data\n",
    "    test_accuracy.append(np.mean((y_batch.cpu() == y_pred.cpu()).numpy()))\n",
    "\n",
    "test_accuracy = np.mean(test_accuracy)"
   ]
  },
  {
   "cell_type": "code",
   "execution_count": 65,
   "metadata": {
    "colab": {
     "base_uri": "https://localhost:8080/",
     "height": 69
    },
    "colab_type": "code",
    "id": "DMubWpC65f0t",
    "outputId": "b7f0bc9d-f7c4-4af9-c0bd-06bd4f3f0af0"
   },
   "outputs": [
    {
     "name": "stdout",
     "output_type": "stream",
     "text": [
      "Final results:\n",
      "\ttest accuracy:\t\t40.56 %\n",
      "Achievement unlocked: 110lvl Warlock!\n"
     ]
    }
   ],
   "source": [
    "print(\"Final results:\")\n",
    "print(\"\\ttest accuracy:\\t\\t{:.2f} %\".format(test_accuracy * 100))\n",
    "\n",
    "if test_accuracy * 100 > 40:\n",
    "    print(\"Achievement unlocked: 110lvl Warlock!\")\n",
    "elif test_accuracy * 100 > 35:\n",
    "    print(\"Achievement unlocked: 80lvl Warlock!\")\n",
    "elif test_accuracy * 100 > 30:\n",
    "    print(\"Achievement unlocked: 70lvl Warlock!\")\n",
    "elif test_accuracy * 100 > 25:\n",
    "    print(\"Achievement unlocked: 60lvl Warlock!\")\n",
    "else:\n",
    "    print(\"We need more magic! Follow instructons below\")"
   ]
  },
  {
   "cell_type": "markdown",
   "metadata": {
    "colab_type": "text",
    "id": "6874_KBm5f1H"
   },
   "source": [
    "```\n",
    "\n",
    "```\n",
    "\n",
    "```\n",
    "\n",
    "```\n",
    "\n",
    "```\n",
    "\n",
    "```\n",
    "\n",
    "\n",
    "# Report\n",
    "\n",
    "All creative approaches are highly welcome, but at the very least it would be great to mention\n",
    "* the idea;\n",
    "* brief history of tweaks and improvements;\n",
    "* what is the final architecture and why?\n",
    "* what is the training method and, again, why?\n",
    "* Any regularizations and other techniques applied and their effects;\n",
    "\n",
    "\n",
    "There is no need to write strict mathematical proofs (unless you want to).\n",
    " * \"I tried this, this and this, and the second one turned out to be better. And i just didn't like the name of that one\" - OK, but can be better\n",
    " * \"I have analized these and these articles|sources|blog posts, tried that and that to adapt them to my problem and the conclusions are such and such\" - the ideal one\n",
    " * \"I took that code that demo without understanding it, but i'll never confess that and instead i'll make up some pseudoscientific explaination\" - __not_ok__"
   ]
  },
  {
   "cell_type": "markdown",
   "metadata": {
    "colab_type": "text",
    "id": "ycriyXyi5f1U"
   },
   "source": [
    "### Hi, my name is `Dmitry`, and here's my story\n",
    "\n",
    "A long time ago in a galaxy far far away, when it was still more than an hour before the deadline, i got an idea:\n",
    "\n",
    "##### I gonna build a neural network, that\n",
    "classifies images from \"Tiny ImageNet 200\" dataset using several convolution hidden layers.\n",
    "\n",
    "##### One day, with no signs of warning,\n",
    "This thing has finally converged and\n",
    "* SGD with momentum works better than Adam\n",
    "* Data augumentation works fantastically!\n",
    "\n",
    "##### Finally, after 300  iterations, 7 mugs of [tea/coffee]\n",
    "* Added `padding=1` to `Conv2d` layers\n",
    "* Removed extra `MaxPool2d` \n",
    "* Started using less features but increased receptieve field\n",
    "* 6 Conv2d with kernel size 3x3 means 64x64 receptive filed (fully covers image)\n",
    "* Added momentum and L2 regularization SGD to optimizer\n",
    "* Increased dropout (0.5) and weight decate (1e-3)\n",
    "\n",
    "That, having wasted 24 [minutes, hours or days] of my life training, got\n",
    "\n",
    "* accuracy on training: __\n",
    "* accuracy on validation: __\n",
    "* accuracy on test: __\n",
    "\n",
    "\n",
    "Thank you for you work! =)"
   ]
  }
 ],
 "metadata": {
  "accelerator": "GPU",
  "colab": {
   "include_colab_link": true,
   "name": "homework_part2.ipynb",
   "provenance": [],
   "version": "0.3.2"
  },
  "kernelspec": {
   "display_name": "Python 3",
   "language": "python",
   "name": "python3"
  },
  "language_info": {
   "codemirror_mode": {
    "name": "ipython",
    "version": 3
   },
   "file_extension": ".py",
   "mimetype": "text/x-python",
   "name": "python",
   "nbconvert_exporter": "python",
   "pygments_lexer": "ipython3",
   "version": "3.5.5"
  }
 },
 "nbformat": 4,
 "nbformat_minor": 1
}
